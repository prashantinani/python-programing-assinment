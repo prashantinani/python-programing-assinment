{
 "cells": [
  {
   "cell_type": "markdown",
   "id": "221e3d69",
   "metadata": {},
   "source": [
    "1.Write a Python Program to find the factorial of a number ?"
   ]
  },
  {
   "cell_type": "code",
   "execution_count": null,
   "id": "f1d62954",
   "metadata": {},
   "outputs": [],
   "source": [
    "def factorial(num):\n",
    "    if (num < 1):\n",
    "        return 1\n",
    "    else:\n",
    "        return num*factorial(num-1)\n",
    "num = int(input('Enter a number: '))\n",
    "value = factorial(num)\n",
    "print(f'The Factorial of {num} is {value}')"
   ]
  },
  {
   "cell_type": "markdown",
   "id": "2b09a5d7",
   "metadata": {},
   "source": [
    "2.Write a Python Program to display the multiplication table ?"
   ]
  },
  {
   "cell_type": "code",
   "execution_count": null,
   "id": "15003c66",
   "metadata": {},
   "outputs": [],
   "source": [
    "def generateTable(base,entries):\n",
    "    for x in range(1,entries+1):\n",
    "        print(f'{base} X {x} = {base*x}')\n",
    "\n",
    "num = int(input('Enter a number: '))\n",
    "values = int(input('Enter no of entries: '))\n",
    "generateTable(num,values)"
   ]
  },
  {
   "cell_type": "markdown",
   "id": "19abd616",
   "metadata": {},
   "source": [
    "3.Write a Python Program to print the fibonacci sequence ?"
   ]
  },
  {
   "cell_type": "code",
   "execution_count": null,
   "id": "a031b314",
   "metadata": {},
   "outputs": [],
   "source": [
    "s_count = int(input('Enter the no of fibonacci sequences you want? '))\n",
    "initial_list = [0,1]\n",
    "if s_count < 0:\n",
    "    print('Fibonacci Numbers are not available for Negative Numbers')\n",
    "elif s_count <= 2 and s_count >= 0:\n",
    "    print(initial_list)\n",
    "else:\n",
    "    for ins in range(s_count):\n",
    "        if ins >= 2:\n",
    "            initial_list.append(initial_list[ins-1]+initial_list[ins-2])\n",
    "    print(f'The First {s_count} fibonacci series are: ',initial_list)"
   ]
  },
  {
   "cell_type": "markdown",
   "id": "a8bd47f9",
   "metadata": {},
   "source": [
    "4.Write a Python Program to check Armstrong number ?"
   ]
  },
  {
   "cell_type": "code",
   "execution_count": 7,
   "id": "26726209",
   "metadata": {},
   "outputs": [
    {
     "name": "stdout",
     "output_type": "stream",
     "text": [
      "enter the number123\n",
      "number is not armstrong\n"
     ]
    }
   ],
   "source": [
    "def checkarmstrong(number):\n",
    " \n",
    "    \n",
    "    orig=number\n",
    "    sum=0\n",
    "    while(number>0):\n",
    "        sum = sum + (number%10)*(number%10)*(number%10)\n",
    "        number=number//10\n",
    "    if orig==sum:\n",
    "        print(\"number is armstrong\")\n",
    "    else:\n",
    "        print(\"number is not armstrong\")\n",
    "number=int(input(\"enter the number\"))\n",
    "        \n",
    "checkarmstrong(number)\n",
    " \n"
   ]
  },
  {
   "cell_type": "markdown",
   "id": "3daf9464",
   "metadata": {},
   "source": [
    "5.Write a Python Program to Find Armstrong number in an interval ?"
   ]
  },
  {
   "cell_type": "code",
   "execution_count": 2,
   "id": "7c023871",
   "metadata": {},
   "outputs": [
    {
     "name": "stdout",
     "output_type": "stream",
     "text": [
      "enter the lower limit here: 100\n",
      "enterthe upper limit here : 500\n",
      "153\n",
      "370\n",
      "371\n",
      "407\n"
     ]
    }
   ],
   "source": [
    "lower = int(input(\"enter the lower limit here: \"))\n",
    "upper = int(input(\"enterthe upper limit here : \"))\n",
    "sum=0\n",
    "for num in range(lower,upper+1):\n",
    "    order =len(str(num))\n",
    "    sum=0\n",
    "    temp = num\n",
    "    while temp > 0:\n",
    "        digit = temp % 10\n",
    "        sum +=digit ** order\n",
    "        temp //=10\n",
    "    if num== sum:\n",
    "        print(num)"
   ]
  },
  {
   "cell_type": "markdown",
   "id": "bdccb201",
   "metadata": {},
   "source": [
    "6.Write a Python Program to sum of natural numbers ? "
   ]
  },
  {
   "cell_type": "code",
   "execution_count": 6,
   "id": "471573e8",
   "metadata": {},
   "outputs": [
    {
     "name": "stdout",
     "output_type": "stream",
     "text": [
      "Enter a number: 10\n",
      "Sum of 10 natural numbers is 55.0\n"
     ]
    }
   ],
   "source": [
    "def sumOfNaturalNumbers(num):\n",
    "    sum = num*((num+1)/2)\n",
    "    print(f'Sum of {num} natural numbers is {sum}')\n",
    "    \n",
    "num = int(input('Enter a number: '))\n",
    "sumOfNaturalNumbers(num)"
   ]
  },
  {
   "cell_type": "code",
   "execution_count": null,
   "id": "25979aac",
   "metadata": {},
   "outputs": [],
   "source": []
  },
  {
   "cell_type": "code",
   "execution_count": null,
   "id": "7681b47e",
   "metadata": {},
   "outputs": [],
   "source": []
  }
 ],
 "metadata": {
  "kernelspec": {
   "display_name": "Python 3 (ipykernel)",
   "language": "python",
   "name": "python3"
  },
  "language_info": {
   "codemirror_mode": {
    "name": "ipython",
    "version": 3
   },
   "file_extension": ".py",
   "mimetype": "text/x-python",
   "name": "python",
   "nbconvert_exporter": "python",
   "pygments_lexer": "ipython3",
   "version": "3.9.12"
  }
 },
 "nbformat": 4,
 "nbformat_minor": 5
}
